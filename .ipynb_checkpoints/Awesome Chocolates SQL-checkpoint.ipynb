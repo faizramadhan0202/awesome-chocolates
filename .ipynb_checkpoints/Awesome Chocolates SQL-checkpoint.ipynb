{
 "cells": [
  {
   "cell_type": "markdown",
   "id": "eaddad42",
   "metadata": {},
   "source": [
    "<strong><center>Awesome Chocolates<h2/><center/><strong/>"
   ]
  },
  {
   "cell_type": "markdown",
   "id": "0db65980",
   "metadata": {},
   "source": [
    "<strong>Introduction<strong/>"
   ]
  },
  {
   "cell_type": "markdown",
   "id": "59215b0a",
   "metadata": {},
   "source": [
    "Awesome Chocolates is a chocolate company in America that sells various kinds of chocolate. Exploratory Data Analysis (EDA) using SQL is carried out with the aim of finding new information and answering questions such as how many units were sold, how many categories or brands were sold and how much revenue was earned and many other things. which is being explored."
   ]
  },
  {
   "cell_type": "markdown",
   "id": "6d7fc3fa",
   "metadata": {},
   "source": [
    "1. <a style=\"text-decoration:none\" href=\"#Connecting to MySQL Server\">Connecting to MySQL Server<a/><br>\n",
    "2. <a style=\"text-decoration:none\" href=\"#Connecting to the Database\">Connecting to the Database<a/><br>\n",
    "3. <a style=\"text-decoration:none\" href=\"#Creating a Query Execution Function\">Creating a Query Execution Function<a/><br>\n",
    "4. <a style=\"text-decoration:none\" href=\"#Explorer Data Analyst\">Explorer Data Analyst<a/><br>\n",
    "    a. <a style=\"text-decoration:none\" href=\"#show tables\">show tables<a/><br>\n",
    "    b. <a style=\"text-decoration:none\" href=\"#describe\">describe<a/><br>\n",
    "    c. <a style=\"text-decoration:none\" href=\"#select\">select<a/><br>\n",
    "    d. <a style=\"text-decoration:none\" href=\"#disticnt\">disticnt<a/><br>\n",
    "    e. <a style=\"text-decoration:none\" href=\"#join\">join<a/><br>\n",
    "    f. <a style=\"text-decoration:none\" href=\"#aggregate functions\">aggregate functions<a/><br>\n",
    "    g. <a style=\"text-decoration:none\" href=\"#operator\">operator<a/><br>\n",
    "    h. <a style=\"text-decoration:none\" href=\"#like\">like<a/><br>\n",
    "    i. <a style=\"text-decoration:none\" href=\"#case when\">case when<a/><br>"
   ]
  },
  {
   "cell_type": "code",
   "execution_count": 1,
   "id": "53e253f1",
   "metadata": {},
   "outputs": [],
   "source": [
    "import mysql.connector\n",
    "from mysql.connector import Error"
   ]
  },
  {
   "cell_type": "markdown",
   "id": "8acf71cc",
   "metadata": {},
   "source": [
    "<strong id=\"Connecting to MySQL Server\">Connecting to MySQL Server<strong/>"
   ]
  },
  {
   "cell_type": "code",
   "execution_count": 2,
   "id": "0fabf203",
   "metadata": {},
   "outputs": [
    {
     "name": "stdout",
     "output_type": "stream",
     "text": [
      "MySQL Database connection successful\n"
     ]
    }
   ],
   "source": [
    "def create_server_connection(host_name, user_name, user_password):\n",
    "    connection = None\n",
    "    try:\n",
    "        connection = mysql.connector.connect(\n",
    "            host=host_name,\n",
    "            user=user_name,\n",
    "            passwd=user_password\n",
    "        )\n",
    "        print(\"MySQL Database connection successful\")\n",
    "    except Error as err:\n",
    "        print(f\"Error: '{err}'\")\n",
    "\n",
    "    return connection\n",
    "\n",
    "db = 'awesome chocolates'\n",
    "pw = ''\n",
    "\n",
    "connection = create_server_connection(\"localhost\", \"root\", pw)"
   ]
  },
  {
   "cell_type": "markdown",
   "id": "c399b7f3",
   "metadata": {},
   "source": [
    "<strong id=\"Connecting to the Database\">Connecting to the Database<strong/>"
   ]
  },
  {
   "cell_type": "code",
   "execution_count": 3,
   "id": "c64a1ce4",
   "metadata": {},
   "outputs": [],
   "source": [
    "def create_db_connection(host_name, user_name, user_password, db_name):\n",
    "    connection = None\n",
    "    try:\n",
    "        connection = mysql.connector.connect(\n",
    "            host=host_name,\n",
    "            user=user_name,\n",
    "            passwd=user_password,\n",
    "            database=db_name\n",
    "        )\n",
    "        print(\"MySQL Database connection successful\")\n",
    "    except Error as err:\n",
    "        print(f\"Error: '{err}'\")\n",
    "\n",
    "    return connection"
   ]
  },
  {
   "cell_type": "code",
   "execution_count": 4,
   "id": "c9e6601e",
   "metadata": {},
   "outputs": [],
   "source": [
    "def read_query(connection, query):\n",
    "    cursor = connection.cursor()\n",
    "    result = None\n",
    "    try:\n",
    "        cursor.execute(query)\n",
    "        result = cursor.fetchall()\n",
    "        return result\n",
    "    except Error as err:\n",
    "        print(f\"Error: '{err}'\")"
   ]
  },
  {
   "cell_type": "markdown",
   "id": "7033d9ba",
   "metadata": {},
   "source": [
    "<strong id=\"Creating a Query Execution Function\">Creating a Query Execution Function<strong/>"
   ]
  },
  {
   "cell_type": "code",
   "execution_count": 5,
   "id": "522c42ad",
   "metadata": {},
   "outputs": [],
   "source": [
    "def execute_query(connection, query):\n",
    "    cursor = connection.cursor()\n",
    "    try:\n",
    "        cursor.execute(query)\n",
    "        connection.commit()\n",
    "        print(\"Query successful\")\n",
    "    except Error as err:\n",
    "        print(f\"Error: '{err}'\")"
   ]
  },
  {
   "cell_type": "code",
   "execution_count": 6,
   "id": "6a545a98",
   "metadata": {},
   "outputs": [
    {
     "name": "stdout",
     "output_type": "stream",
     "text": [
      "MySQL Database connection successful\n"
     ]
    }
   ],
   "source": [
    "q1 = \"\"\"\n",
    "alter table sales \n",
    "MODIFY SaleDate date;;\n",
    "\"\"\"\n",
    "\n",
    "connection = create_db_connection(\"localhost\", \"root\", pw, db)\n",
    "results = read_query(connection, q1)\n",
    "\n",
    "for result in results:\n",
    "  print(result)"
   ]
  },
  {
   "cell_type": "code",
   "execution_count": 7,
   "id": "fa6ce256",
   "metadata": {},
   "outputs": [
    {
     "name": "stdout",
     "output_type": "stream",
     "text": [
      "MySQL Database connection successful\n",
      "('SPID', 'text', 'YES', '', None, '')\n",
      "('GeoID', 'text', 'YES', '', None, '')\n",
      "('PID', 'text', 'YES', '', None, '')\n",
      "('SaleDate', 'date', 'YES', '', None, '')\n",
      "('Amount', 'int(11)', 'YES', '', None, '')\n",
      "('Customers', 'int(11)', 'YES', '', None, '')\n",
      "('Boxes', 'int(11)', 'YES', '', None, '')\n"
     ]
    }
   ],
   "source": [
    "q2 = \"\"\"\n",
    "desc sales\n",
    "\"\"\"\n",
    "\n",
    "connection = create_db_connection(\"localhost\", \"root\", pw, db)\n",
    "results = read_query(connection, q2)\n",
    "\n",
    "for result in results:\n",
    "  print(result)"
   ]
  },
  {
   "cell_type": "code",
   "execution_count": 8,
   "id": "d330283c",
   "metadata": {},
   "outputs": [
    {
     "name": "stdout",
     "output_type": "stream",
     "text": [
      "MySQL Database connection successful\n",
      "(datetime.date(2001, 1, 21),)\n",
      "(datetime.date(2001, 1, 21),)\n",
      "(datetime.date(2001, 1, 21),)\n",
      "(datetime.date(2001, 1, 21),)\n",
      "(datetime.date(2001, 1, 21),)\n"
     ]
    }
   ],
   "source": [
    "q3 = \"\"\"\n",
    "select SaleDate from sales\n",
    "limit 5\n",
    "\"\"\"\n",
    "\n",
    "connection = create_db_connection(\"localhost\", \"root\", pw, db)\n",
    "results = read_query(connection, q3)\n",
    "\n",
    "for result in results:\n",
    "  print(result)"
   ]
  },
  {
   "cell_type": "markdown",
   "id": "63c6d55c",
   "metadata": {},
   "source": [
    "<strong id=\"Explorer Data Analyst\">Explorer Data Analyst<strong/>"
   ]
  },
  {
   "cell_type": "markdown",
   "id": "209feae8",
   "metadata": {},
   "source": [
    "<small id=\"show tables\"> show tables <small/>"
   ]
  },
  {
   "cell_type": "code",
   "execution_count": 9,
   "id": "8311ff8a",
   "metadata": {},
   "outputs": [
    {
     "name": "stdout",
     "output_type": "stream",
     "text": [
      "MySQL Database connection successful\n",
      "('geo',)\n",
      "('people',)\n",
      "('products',)\n",
      "('sales',)\n"
     ]
    }
   ],
   "source": [
    "q4 = \"\"\"\n",
    "show tables;\n",
    "\"\"\"\n",
    "\n",
    "connection = create_db_connection(\"localhost\", \"root\", pw, db)\n",
    "results = read_query(connection, q4)\n",
    "\n",
    "for result in results:\n",
    "  print(result)"
   ]
  },
  {
   "cell_type": "markdown",
   "id": "d986467a",
   "metadata": {},
   "source": [
    "<small id=\"describe\"> describe <small/>"
   ]
  },
  {
   "cell_type": "code",
   "execution_count": 10,
   "id": "481e3974",
   "metadata": {},
   "outputs": [
    {
     "name": "stdout",
     "output_type": "stream",
     "text": [
      "MySQL Database connection successful\n",
      "('GeoID', 'varchar(4)', 'NO', 'PRI', None, '')\n",
      "('Geo', 'text', 'YES', '', None, '')\n",
      "('Region', 'text', 'YES', '', None, '')\n"
     ]
    }
   ],
   "source": [
    "q5 = \"\"\"\n",
    "desc geo;\n",
    "\"\"\"\n",
    "\n",
    "connection = create_db_connection(\"localhost\", \"root\", pw, db)\n",
    "results = read_query(connection, q5)\n",
    "\n",
    "for result in results:\n",
    "  print(result)"
   ]
  },
  {
   "cell_type": "code",
   "execution_count": 11,
   "id": "67f72335",
   "metadata": {},
   "outputs": [
    {
     "name": "stdout",
     "output_type": "stream",
     "text": [
      "MySQL Database connection successful\n",
      "('Salesperson', 'text', 'YES', '', None, '')\n",
      "('SPID', 'varchar(6)', 'NO', 'PRI', None, '')\n",
      "('Team', 'text', 'YES', '', None, '')\n",
      "('Location', 'text', 'YES', '', None, '')\n"
     ]
    }
   ],
   "source": [
    "q6 = \"\"\"\n",
    "desc people;\n",
    "\"\"\"\n",
    "\n",
    "connection = create_db_connection(\"localhost\", \"root\", pw, db)\n",
    "results = read_query(connection, q6)\n",
    "\n",
    "for result in results:\n",
    "  print(result)"
   ]
  },
  {
   "cell_type": "code",
   "execution_count": 12,
   "id": "290919d6",
   "metadata": {},
   "outputs": [
    {
     "name": "stdout",
     "output_type": "stream",
     "text": [
      "MySQL Database connection successful\n",
      "('PID', 'varchar(6)', 'NO', 'PRI', None, '')\n",
      "('Product', 'text', 'YES', '', None, '')\n",
      "('Category', 'text', 'YES', '', None, '')\n",
      "('Size', 'text', 'YES', '', None, '')\n",
      "('Cost_per_box', 'double', 'YES', '', None, '')\n"
     ]
    }
   ],
   "source": [
    "q7 = \"\"\"\n",
    "desc products;\n",
    "\"\"\"\n",
    "\n",
    "connection = create_db_connection(\"localhost\", \"root\", pw, db)\n",
    "results = read_query(connection, q7)\n",
    "\n",
    "for result in results:\n",
    "  print(result)"
   ]
  },
  {
   "cell_type": "code",
   "execution_count": 15,
   "id": "fe69957f",
   "metadata": {},
   "outputs": [
    {
     "name": "stdout",
     "output_type": "stream",
     "text": [
      "MySQL Database connection successful\n",
      "('SPID', 'text', 'YES', '', None, '')\n",
      "('GeoID', 'text', 'YES', '', None, '')\n",
      "('PID', 'text', 'YES', '', None, '')\n",
      "('SaleDate', 'date', 'YES', '', None, '')\n",
      "('Amount', 'int(11)', 'YES', '', None, '')\n",
      "('Customers', 'int(11)', 'YES', '', None, '')\n",
      "('Boxes', 'int(11)', 'YES', '', None, '')\n"
     ]
    }
   ],
   "source": [
    "q8 = \"\"\"\n",
    "desc sales;\n",
    "\"\"\"\n",
    "\n",
    "connection = create_db_connection(\"localhost\", \"root\", pw, db)\n",
    "results = read_query(connection, q8)\n",
    "\n",
    "for result in results:\n",
    "  print(result)"
   ]
  },
  {
   "cell_type": "markdown",
   "id": "86242e49",
   "metadata": {},
   "source": [
    "<small id=\"select\"> select <small/>"
   ]
  },
  {
   "cell_type": "code",
   "execution_count": 16,
   "id": "7f9b4619",
   "metadata": {},
   "outputs": [
    {
     "name": "stdout",
     "output_type": "stream",
     "text": [
      "MySQL Database connection successful\n",
      "('G1', 'India', 'APAC')\n",
      "('G2', 'USA', 'Americas')\n",
      "('G3', 'Canada', 'Americas')\n",
      "('G4', 'New Zealand', 'APAC')\n",
      "('G5', 'Australia', 'APAC')\n",
      "('G6', 'UK', 'Europe')\n"
     ]
    }
   ],
   "source": [
    "q9 = \"\"\"\n",
    "SELECT *\n",
    "FROM geo;\n",
    "\"\"\"\n",
    "\n",
    "connection = create_db_connection(\"localhost\", \"root\", pw, db)\n",
    "results = read_query(connection, q9)\n",
    "\n",
    "for result in results:\n",
    "  print(result)"
   ]
  },
  {
   "cell_type": "code",
   "execution_count": 17,
   "id": "0742cf55",
   "metadata": {},
   "outputs": [
    {
     "name": "stdout",
     "output_type": "stream",
     "text": [
      "MySQL Database connection successful\n",
      "('P01', 'Milk Bars', 'Bars', 'LARGE', 1.52)\n",
      "('P02', '50% Dark Bites', 'Bites', 'LARGE', 2.57)\n",
      "('P03', 'Almond Choco', 'Bars', 'LARGE', 9.6)\n",
      "('P04', 'Raspberry Choco', 'Bars', 'LARGE', 4.09)\n",
      "('P05', 'Mint Chip Choco', 'Bars', 'LARGE', 1.54)\n",
      "('P06', 'Eclairs', 'Bites', 'LARGE', 2.24)\n",
      "('P07', 'Drinking Coco', 'Other', 'LARGE', 1.62)\n",
      "('P08', '99% Dark & Pure', 'Bars', 'LARGE', 2.47)\n",
      "('P09', 'Orange Choco', 'Bars', 'LARGE', 7.14)\n",
      "('P10', 'Spicy Special Slims', 'Bites', 'LARGE', 5.79)\n",
      "('P11', 'After Nines', 'Bites', 'LARGE', 4.43)\n",
      "('P12', 'Fruit & Nut Bars', 'Bars', 'LARGE', 1.58)\n",
      "('P13', '85% Dark Bars', 'Bars', 'SMALL', 0.64)\n",
      "('P14', 'White Choc', 'Other', 'SMALL', 0.16)\n",
      "('P15', \"Baker's Choco Chips\", 'Bars', 'SMALL', 3.4)\n",
      "('P16', 'Organic Choco Syrup', 'Other', 'SMALL', 1.47)\n",
      "('P17', 'Caramel Stuffed Bars', 'Bars', 'SMALL', 0.54)\n",
      "('P18', 'Manuka Honey Choco', 'Other', 'SMALL', 4.75)\n",
      "('P19', '70% Dark Bites', 'Bites', 'SMALL', 4.97)\n",
      "('P20', 'Smooth Sliky Salty', 'Bars', 'SMALL', 2.97)\n",
      "('P21', 'Choco Coated Almonds', 'Bites', 'SMALL', 6.17)\n",
      "('P22', 'Peanut Butter Cubes', 'Bites', 'SMALL', 3.57)\n"
     ]
    }
   ],
   "source": [
    "q10 = \"\"\"\n",
    "SELECT *\n",
    "FROM products;\n",
    "\"\"\"\n",
    "\n",
    "connection = create_db_connection(\"localhost\", \"root\", pw, db)\n",
    "results = read_query(connection, q10)\n",
    "\n",
    "for result in results:\n",
    "  print(result)"
   ]
  },
  {
   "cell_type": "code",
   "execution_count": 18,
   "id": "553a4740",
   "metadata": {},
   "outputs": [
    {
     "name": "stdout",
     "output_type": "stream",
     "text": [
      "MySQL Database connection successful\n",
      "('SP01', 'G4', 'P04', datetime.date(2001, 1, 21), 8414, 276, 495)\n",
      "('SP01', 'G4', 'P15', datetime.date(2001, 1, 21), 259, 32, 22)\n",
      "('SP01', 'G5', 'P01', datetime.date(2011, 1, 21), 7238, 67, 315)\n",
      "('SP01', 'G3', 'P19', datetime.date(2012, 1, 21), 490, 188, 35)\n",
      "('SP01', 'G2', 'P14', datetime.date(2018, 1, 21), 2331, 38, 167)\n",
      "('SP01', 'G2', 'P09', datetime.date(2022, 1, 21), 13146, 85, 1644)\n",
      "('SP01', 'G4', 'P05', datetime.date(2025, 1, 21), 3143, 82, 210)\n",
      "('SP01', 'G4', 'P06', datetime.date(2026, 1, 21), 9485, 140, 527)\n",
      "('SP01', 'G2', 'P01', datetime.date(2027, 1, 21), 5558, 263, 192)\n",
      "('SP01', 'G4', 'P12', datetime.date(2027, 1, 21), 5880, 71, 392)\n",
      "('SP01', 'G3', 'P07', datetime.date(2028, 1, 21), 2968, 259, 110)\n",
      "('SP01', 'G2', 'P16', datetime.date(2001, 2, 21), 10983, 185, 379)\n",
      "('SP01', 'G1', 'P22', datetime.date(2002, 2, 21), 2436, 203, 94)\n",
      "('SP01', 'G1', 'P02', datetime.date(2002, 2, 21), 3521, 50, 235)\n",
      "('SP01', 'G2', 'P20', datetime.date(2004, 2, 21), 3724, 322, 266)\n",
      "('SP01', 'G4', 'P13', datetime.date(2008, 2, 21), 6678, 24, 334)\n",
      "('SP01', 'G1', 'P20', datetime.date(2008, 2, 21), 13293, 199, 665)\n",
      "('SP01', 'G3', 'P17', datetime.date(2010, 2, 21), 1750, 9, 63)\n",
      "('SP01', 'G4', 'P19', datetime.date(2017, 2, 21), 8099, 178, 675)\n",
      "('SP01', 'G2', 'P10', datetime.date(2019, 2, 21), 4249, 19, 164)\n"
     ]
    }
   ],
   "source": [
    "q11 = \"\"\"\n",
    "SELECT *\n",
    "FROM sales order by SPID Limit 20;\n",
    "\"\"\"\n",
    "\n",
    "connection = create_db_connection(\"localhost\", \"root\", pw, db)\n",
    "results = read_query(connection, q11)\n",
    "\n",
    "for result in results:\n",
    "  print(result)"
   ]
  },
  {
   "cell_type": "code",
   "execution_count": 11,
   "id": "b3d1e279",
   "metadata": {},
   "outputs": [
    {
     "name": "stdout",
     "output_type": "stream",
     "text": [
      "MySQL Database connection successful\n",
      "('SP23', 'G4', 'P03', datetime.date(2012, 2, 21), 27146, 329, 1939)\n",
      "('SP18', 'G5', 'P10', datetime.date(2022, 4, 21), 25207, 22, 1483)\n",
      "('SP03', 'G5', 'P22', datetime.date(2002, 6, 21), 24633, 39, 986)\n",
      "('SP18', 'G1', 'P11', datetime.date(2021, 10, 21), 24451, 472, 1112)\n",
      "('SP18', 'G2', 'P16', datetime.date(2030, 3, 21), 24367, 272, 3481)\n",
      "('SP24', 'G4', 'P01', datetime.date(2016, 2, 22), 23912, 211, 1993)\n",
      "('SP17', 'G4', 'P08', datetime.date(2010, 3, 21), 23268, 80, 1058)\n",
      "('SP09', 'G4', 'P20', datetime.date(2015, 3, 22), 23184, 123, 1221)\n",
      "('SP14', 'G1', 'P01', datetime.date(2025, 2, 22), 22897, 43, 1347)\n",
      "('SP03', 'G3', 'P03', datetime.date(2025, 10, 21), 22715, 16, 1420)\n",
      "('SP25', 'G2', 'P02', datetime.date(2025, 5, 21), 22652, 46, 2060)\n",
      "('SP16', 'G2', 'P13', datetime.date(2001, 3, 22), 22603, 32, 3229)\n",
      "('SP13', 'G1', 'P14', datetime.date(2026, 11, 21), 22512, 74, 2047)\n",
      "('SP16', 'G4', 'P08', datetime.date(2024, 6, 21), 22484, 38, 978)\n",
      "('SP13', 'G4', 'P10', datetime.date(2025, 2, 22), 22155, 185, 1055)\n",
      "('SP25', 'G3', 'P04', datetime.date(2015, 9, 21), 21861, 160, 1286)\n",
      "('SP18', 'G5', 'P17', datetime.date(2021, 1, 21), 21595, 45, 1964)\n",
      "('SP21', 'G6', 'P19', datetime.date(2004, 10, 21), 21588, 74, 1440)\n",
      "('SP06', 'G4', 'P03', datetime.date(2006, 4, 21), 21525, 210, 1957)\n",
      "('SP09', 'G6', 'P04', datetime.date(2013, 1, 22), 21490, 334, 1132)\n"
     ]
    }
   ],
   "source": [
    "q12 = \"\"\"\n",
    "select * from sales\n",
    "where amount > 10000\n",
    "order by amount desc\n",
    "limit 20\n",
    "\"\"\"\n",
    "\n",
    "connection = create_db_connection(\"localhost\", \"root\", pw, db)\n",
    "results = read_query(connection, q12)\n",
    "\n",
    "for result in results:\n",
    "  print(result)"
   ]
  },
  {
   "cell_type": "code",
   "execution_count": 13,
   "id": "7a657637",
   "metadata": {},
   "outputs": [
    {
     "name": "stdout",
     "output_type": "stream",
     "text": [
      "MySQL Database connection successful\n",
      "(datetime.date(2022, 4, 21), 25207)\n",
      "(datetime.date(2022, 3, 22), 20041)\n",
      "(datetime.date(2022, 3, 21), 19621)\n",
      "(datetime.date(2022, 3, 22), 17710)\n",
      "(datetime.date(2022, 2, 22), 17661)\n",
      "(datetime.date(2022, 11, 21), 17542)\n",
      "(datetime.date(2022, 7, 21), 16968)\n",
      "(datetime.date(2022, 11, 21), 16926)\n",
      "(datetime.date(2022, 10, 21), 16870)\n",
      "(datetime.date(2022, 2, 22), 16023)\n",
      "(datetime.date(2022, 7, 21), 15848)\n",
      "(datetime.date(2022, 12, 21), 15673)\n",
      "(datetime.date(2022, 2, 21), 15351)\n",
      "(datetime.date(2022, 4, 21), 15295)\n",
      "(datetime.date(2022, 2, 21), 15253)\n",
      "(datetime.date(2022, 1, 21), 15197)\n",
      "(datetime.date(2022, 12, 21), 14959)\n",
      "(datetime.date(2022, 2, 21), 14721)\n",
      "(datetime.date(2022, 3, 21), 14385)\n",
      "(datetime.date(2022, 10, 21), 14378)\n"
     ]
    }
   ],
   "source": [
    "q13 = \"\"\"\n",
    "select SaleDate, Amount from sales\n",
    "where amount > 10000 and year(SaleDate) = 2022\n",
    "order by amount desc\n",
    "limit 20\n",
    "\"\"\"\n",
    "\n",
    "connection = create_db_connection(\"localhost\", \"root\", pw, db)\n",
    "results = read_query(connection, q13)\n",
    "\n",
    "for result in results:\n",
    "  print(result)"
   ]
  },
  {
   "cell_type": "markdown",
   "id": "ab49b375",
   "metadata": {},
   "source": [
    "<small id=\"disticnt\"> disticnt <small/>"
   ]
  },
  {
   "cell_type": "code",
   "execution_count": 17,
   "id": "ef4be5d3",
   "metadata": {},
   "outputs": [
    {
     "name": "stdout",
     "output_type": "stream",
     "text": [
      "MySQL Database connection successful\n",
      "('G1', 1261)\n",
      "('G2', 1242)\n",
      "('G3', 1293)\n",
      "('G4', 1292)\n",
      "('G5', 1262)\n",
      "('G6', 1267)\n"
     ]
    }
   ],
   "source": [
    "q14 = \"\"\"\n",
    "SELECT distinct(GeoID), Count(GeoID) as Hasil\n",
    "FROM `sales`\n",
    "group by 1\n",
    "order by 1 asc\n",
    "\"\"\"\n",
    "\n",
    "connection = create_db_connection(\"localhost\", \"root\", pw, db)\n",
    "results = read_query(connection, q14)\n",
    "\n",
    "for result in results:\n",
    "  print(result)"
   ]
  },
  {
   "cell_type": "code",
   "execution_count": 18,
   "id": "5a44975c",
   "metadata": {},
   "outputs": [
    {
     "name": "stdout",
     "output_type": "stream",
     "text": [
      "MySQL Database connection successful\n",
      "('P11', 355)\n",
      "('P22', 355)\n",
      "('P18', 353)\n",
      "('P14', 353)\n",
      "('P01', 352)\n",
      "('P08', 351)\n",
      "('P17', 351)\n",
      "('P13', 349)\n",
      "('P03', 348)\n",
      "('P16', 347)\n",
      "('P12', 347)\n",
      "('P04', 347)\n",
      "('P06', 346)\n",
      "('P09', 345)\n",
      "('P05', 344)\n",
      "('P10', 342)\n",
      "('P15', 342)\n",
      "('P07', 341)\n",
      "('P20', 340)\n",
      "('P19', 338)\n",
      "('P21', 336)\n",
      "('P02', 335)\n"
     ]
    }
   ],
   "source": [
    "q15 = \"\"\"\n",
    "SELECT distinct(PID), Count(PID) as Hasil\n",
    "FROM `sales`\n",
    "group by 1\n",
    "order by 2 desc\n",
    "\"\"\"\n",
    "\n",
    "connection = create_db_connection(\"localhost\", \"root\", pw, db)\n",
    "results = read_query(connection, q15)\n",
    "\n",
    "for result in results:\n",
    "  print(result)"
   ]
  },
  {
   "cell_type": "markdown",
   "id": "f0164787",
   "metadata": {},
   "source": [
    "<small id=\"join\"> join <small/>"
   ]
  },
  {
   "cell_type": "code",
   "execution_count": 19,
   "id": "1faf22d7",
   "metadata": {},
   "outputs": [
    {
     "name": "stdout",
     "output_type": "stream",
     "text": [
      "MySQL Database connection successful\n",
      "('G5', 'Australia', 'APAC', 'SP14', 'G5', 'P16', datetime.date(2001, 1, 21), 1036, 370, 37)\n",
      "('G5', 'Australia', 'APAC', 'SP10', 'G5', 'P17', datetime.date(2001, 1, 21), 4039, 536, 176)\n",
      "('G5', 'Australia', 'APAC', 'SP17', 'G5', 'P13', datetime.date(2005, 1, 21), 9730, 361, 573)\n",
      "('G5', 'Australia', 'APAC', 'SP09', 'G5', 'P09', datetime.date(2006, 1, 21), 539, 10, 77)\n",
      "('G5', 'Australia', 'APAC', 'SP09', 'G5', 'P13', datetime.date(2007, 1, 21), 5467, 109, 288)\n",
      "('G5', 'Australia', 'APAC', 'SP22', 'G5', 'P09', datetime.date(2008, 1, 21), 3570, 61, 325)\n",
      "('G5', 'Australia', 'APAC', 'SP05', 'G5', 'P04', datetime.date(2008, 1, 21), 364, 14, 21)\n",
      "('G5', 'Australia', 'APAC', 'SP19', 'G5', 'P14', datetime.date(2008, 1, 21), 6496, 15, 406)\n",
      "('G5', 'Australia', 'APAC', 'SP08', 'G5', 'P07', datetime.date(2008, 1, 21), 6419, 359, 257)\n",
      "('G5', 'Australia', 'APAC', 'SP01', 'G5', 'P01', datetime.date(2011, 1, 21), 7238, 67, 315)\n",
      "('G5', 'Australia', 'APAC', 'SP08', 'G5', 'P19', datetime.date(2012, 1, 21), 4235, 76, 283)\n",
      "('G5', 'Australia', 'APAC', 'SP16', 'G5', 'P05', datetime.date(2014, 1, 21), 3598, 365, 257)\n",
      "('G5', 'Australia', 'APAC', 'SP20', 'G5', 'P12', datetime.date(2014, 1, 21), 14574, 86, 810)\n",
      "('G5', 'Australia', 'APAC', 'SP04', 'G5', 'P04', datetime.date(2018, 1, 21), 1428, 55, 76)\n",
      "('G5', 'Australia', 'APAC', 'SP19', 'G5', 'P07', datetime.date(2018, 1, 21), 2646, 150, 116)\n",
      "('G5', 'Australia', 'APAC', 'SP24', 'G5', 'P04', datetime.date(2018, 1, 21), 945, 298, 50)\n",
      "('G5', 'Australia', 'APAC', 'SP06', 'G5', 'P15', datetime.date(2019, 1, 21), 742, 80, 53)\n",
      "('G5', 'Australia', 'APAC', 'SP17', 'G5', 'P01', datetime.date(2021, 1, 21), 2408, 106, 90)\n",
      "('G5', 'Australia', 'APAC', 'SP08', 'G5', 'P03', datetime.date(2021, 1, 21), 280, 408, 17)\n",
      "('G5', 'Australia', 'APAC', 'SP07', 'G5', 'P21', datetime.date(2021, 1, 21), 2191, 65, 110)\n"
     ]
    }
   ],
   "source": [
    "q16 = \"\"\"\n",
    "SELECT *\n",
    "FROM Geo\n",
    "Inner Join Sales ON Geo.GeoID = Sales.GeoID order by geo asc limit 20;\n",
    "\"\"\"\n",
    "\n",
    "connection = create_db_connection(\"localhost\", \"root\", pw, db)\n",
    "results = read_query(connection, q16)\n",
    "\n",
    "for result in results:\n",
    "  print(result)"
   ]
  },
  {
   "cell_type": "code",
   "execution_count": 20,
   "id": "8ad8b6cd",
   "metadata": {},
   "outputs": [
    {
     "name": "stdout",
     "output_type": "stream",
     "text": [
      "MySQL Database connection successful\n",
      "('SP01', 'G4', 'P04', datetime.date(2001, 1, 21), 8414, 276, 495, 'Barr Faughny', 'SP01', 'Yummies', 'Hyderabad')\n",
      "('SP02', 'G3', 'P14', datetime.date(2001, 1, 21), 532, 317, 54, 'Dennison Crosswaite', 'SP02', 'Yummies', 'Hyderabad')\n",
      "('SP12', 'G2', 'P08', datetime.date(2001, 1, 21), 5376, 178, 269, 'Karlen McCaffrey', 'SP12', 'Yummies', 'Wellington')\n",
      "('SP01', 'G4', 'P15', datetime.date(2001, 1, 21), 259, 32, 22, 'Barr Faughny', 'SP01', 'Yummies', 'Hyderabad')\n",
      "('SP19', 'G2', 'P18', datetime.date(2001, 1, 21), 5530, 4, 179, 'Beverie Moffet', 'SP19', 'Jucies', 'Seattle')\n",
      "('SP17', 'G1', 'P13', datetime.date(2001, 1, 21), 2184, 63, 122, 'Rafaelita Blaksland', 'SP17', '', 'Wellington')\n",
      "('SP20', 'G6', 'P04', datetime.date(2001, 1, 21), 1057, 295, 71, 'Oby Sorrel', 'SP20', 'Jucies', 'Seattle')\n",
      "('SP14', 'G5', 'P16', datetime.date(2001, 1, 21), 1036, 370, 37, 'Dotty Strutley', 'SP14', 'Delish', 'Wellington')\n",
      "('SP10', 'G5', 'P17', datetime.date(2001, 1, 21), 4039, 536, 176, 'Brien Boise', 'SP10', 'Jucies', 'Wellington')\n",
      "('SP06', 'G4', 'P01', datetime.date(2001, 1, 21), 12894, 115, 478, 'Curtice Advani', 'SP06', 'Delish', 'Hyderabad')\n",
      "('SP18', 'G2', 'P01', datetime.date(2001, 1, 21), 4669, 121, 180, 'Madelene Upcott', 'SP18', 'Jucies', 'Wellington')\n",
      "('SP04', 'G4', 'P16', datetime.date(2001, 1, 21), 6377, 184, 246, \"Wilone O'Kielt\", 'SP04', 'Delish', 'Hyderabad')\n",
      "('SP22', 'G3', 'P05', datetime.date(2001, 1, 21), 4599, 106, 256, 'Jehu Rudeforth', 'SP22', '', 'Seattle')\n",
      "('SP22', 'G2', 'P09', datetime.date(2001, 1, 21), 2751, 228, 251, 'Jehu Rudeforth', 'SP22', '', 'Seattle')\n",
      "('SP10', 'G1', 'P06', datetime.date(2001, 1, 21), 15596, 32, 975, 'Brien Boise', 'SP10', 'Jucies', 'Wellington')\n",
      "('SP06', 'G1', 'P11', datetime.date(2001, 1, 21), 8561, 111, 330, 'Curtice Advani', 'SP06', 'Delish', 'Hyderabad')\n",
      "('SP25', 'G6', 'P05', datetime.date(2001, 1, 21), 14273, 335, 752, 'Camilla Castle', 'SP25', 'Delish', 'Seattle')\n",
      "('SP02', 'G4', 'P13', datetime.date(2001, 1, 21), 2506, 99, 148, 'Dennison Crosswaite', 'SP02', 'Yummies', 'Hyderabad')\n",
      "('SP19', 'G3', 'P10', datetime.date(2001, 1, 21), 2387, 134, 89, 'Beverie Moffet', 'SP19', 'Jucies', 'Seattle')\n",
      "('SP09', 'G2', 'P07', datetime.date(2001, 1, 21), 7553, 67, 280, 'Andria Kimpton', 'SP09', 'Jucies', 'Hyderabad')\n"
     ]
    }
   ],
   "source": [
    "q17 = \"\"\"\n",
    "SELECT *\n",
    "FROM Sales\n",
    "Right Join People ON Sales.SPID = People.SPID\n",
    "limit 20\n",
    "\"\"\"\n",
    "\n",
    "connection = create_db_connection(\"localhost\", \"root\", pw, db)\n",
    "results = read_query(connection, q17)\n",
    "\n",
    "for result in results:\n",
    "  print(result)"
   ]
  },
  {
   "cell_type": "code",
   "execution_count": 21,
   "id": "37e3193e",
   "metadata": {},
   "outputs": [
    {
     "name": "stdout",
     "output_type": "stream",
     "text": [
      "MySQL Database connection successful\n",
      "('G6', 'P04', 'Oby Sorrel', 1057, 71, 295, 'Jucies', 'Seattle')\n",
      "('G6', 'P05', 'Camilla Castle', 14273, 752, 335, 'Delish', 'Seattle')\n",
      "('G6', 'P21', 'Kelci Walkden', 1988, 95, 179, 'Yummies', 'Wellington')\n",
      "('G6', 'P09', 'Karlen McCaffrey', 147, 11, 9, 'Yummies', 'Wellington')\n",
      "('G6', 'P12', 'Oby Sorrel', 2401, 134, 407, 'Jucies', 'Seattle')\n",
      "('G6', 'P17', 'Curtice Advani', 5390, 216, 61, 'Delish', 'Hyderabad')\n",
      "('G6', 'P03', 'Madelene Upcott', 1176, 66, 152, 'Jucies', 'Wellington')\n",
      "('G6', 'P12', 'Madelene Upcott', 7063, 643, 250, 'Jucies', 'Wellington')\n",
      "('G6', 'P11', 'Husein Augar', 6622, 276, 57, 'Yummies', 'Wellington')\n",
      "('G6', 'P22', 'Jan Morforth', 7182, 378, 29, 'Delish', 'Wellington')\n",
      "('G6', 'P19', 'Oby Sorrel', 637, 91, 79, 'Jucies', 'Seattle')\n",
      "('G6', 'P01', 'Gunar Cockshoot', 2709, 101, 27, 'Yummies', 'Hyderabad')\n",
      "('G6', 'P17', 'Kelci Walkden', 3073, 129, 137, 'Yummies', 'Wellington')\n",
      "('G6', 'P04', 'Ches Bonnell', 357, 17, 185, '', 'Hyderabad')\n",
      "('G6', 'P08', 'Kelci Walkden', 5124, 285, 33, 'Yummies', 'Wellington')\n",
      "('G6', 'P01', 'Husein Augar', 189, 8, 123, 'Yummies', 'Wellington')\n",
      "('G6', 'P03', 'Jan Morforth', 5418, 247, 287, 'Delish', 'Wellington')\n",
      "('G6', 'P07', 'Ches Bonnell', 728, 32, 234, '', 'Hyderabad')\n",
      "('G6', 'P01', 'Karlen McCaffrey', 6881, 222, 10, 'Yummies', 'Wellington')\n",
      "('G6', 'P10', 'Ches Bonnell', 1127, 54, 97, '', 'Hyderabad')\n"
     ]
    }
   ],
   "source": [
    "q18 = \"\"\"\n",
    "SELECT S.GeoID, S.PID, P.salesperson, S.Amount, S.Boxes, S.Customers, P.Team, P.Location\n",
    "FROM Sales S\n",
    "LEFT Join People P ON S.SPID = P.SPID order by GeoID desc limit 20;\n",
    "\"\"\"\n",
    "\n",
    "connection = create_db_connection(\"localhost\", \"root\", pw, db)\n",
    "results = read_query(connection, q18)\n",
    "\n",
    "for result in results:\n",
    "  print(result)"
   ]
  },
  {
   "cell_type": "code",
   "execution_count": 22,
   "id": "e51b5e75",
   "metadata": {},
   "outputs": [
    {
     "name": "stdout",
     "output_type": "stream",
     "text": [
      "MySQL Database connection successful\n",
      "('P03', 'Almond Choco', 'LARGE', 'Bars', 27146, 1939)\n",
      "('P10', 'Spicy Special Slims', 'LARGE', 'Bites', 25207, 1483)\n",
      "('P22', 'Peanut Butter Cubes', 'SMALL', 'Bites', 24633, 986)\n",
      "('P11', 'After Nines', 'LARGE', 'Bites', 24451, 1112)\n",
      "('P16', 'Organic Choco Syrup', 'SMALL', 'Other', 24367, 3481)\n",
      "('P01', 'Milk Bars', 'LARGE', 'Bars', 23912, 1993)\n",
      "('P08', '99% Dark & Pure', 'LARGE', 'Bars', 23268, 1058)\n",
      "('P20', 'Smooth Sliky Salty', 'SMALL', 'Bars', 23184, 1221)\n",
      "('P01', 'Milk Bars', 'LARGE', 'Bars', 22897, 1347)\n",
      "('P03', 'Almond Choco', 'LARGE', 'Bars', 22715, 1420)\n",
      "('P02', '50% Dark Bites', 'LARGE', 'Bites', 22652, 2060)\n",
      "('P13', '85% Dark Bars', 'SMALL', 'Bars', 22603, 3229)\n",
      "('P14', 'White Choc', 'SMALL', 'Other', 22512, 2047)\n",
      "('P08', '99% Dark & Pure', 'LARGE', 'Bars', 22484, 978)\n",
      "('P10', 'Spicy Special Slims', 'LARGE', 'Bites', 22155, 1055)\n",
      "('P04', 'Raspberry Choco', 'LARGE', 'Bars', 21861, 1286)\n",
      "('P17', 'Caramel Stuffed Bars', 'SMALL', 'Bars', 21595, 1964)\n",
      "('P19', '70% Dark Bites', 'SMALL', 'Bites', 21588, 1440)\n",
      "('P03', 'Almond Choco', 'LARGE', 'Bars', 21525, 1957)\n",
      "('P04', 'Raspberry Choco', 'LARGE', 'Bars', 21490, 1132)\n"
     ]
    }
   ],
   "source": [
    "q19 = \"\"\"\n",
    "SELECT P.PID, P.Product, P.size, P.category, S.Amount, S.Boxes\n",
    "FROM products P\n",
    "Right Join Sales S ON P.PID = S.PID order by Amount desc limit 20;\n",
    "\"\"\"\n",
    "\n",
    "connection = create_db_connection(\"localhost\", \"root\", pw, db)\n",
    "results = read_query(connection, q19)\n",
    "\n",
    "for result in results:\n",
    "  print(result)"
   ]
  },
  {
   "cell_type": "markdown",
   "id": "de3e7010",
   "metadata": {},
   "source": [
    "<small id=\"aggregate functions\"> aggregate functions <small/>"
   ]
  },
  {
   "cell_type": "code",
   "execution_count": 23,
   "id": "f1d39e54",
   "metadata": {},
   "outputs": [
    {
     "name": "stdout",
     "output_type": "stream",
     "text": [
      "MySQL Database connection successful\n",
      "('G1', Decimal('7310254'), Decimal('5797.1879'), Decimal('490374'))\n",
      "('G2', Decimal('7012523'), Decimal('5646.1538'), Decimal('473759'))\n",
      "('G3', Decimal('7350091'), Decimal('5684.5251'), Decimal('491482'))\n",
      "('G4', Decimal('7435918'), Decimal('5755.3545'), Decimal('493139'))\n",
      "('G5', Decimal('7263151'), Decimal('5755.2702'), Decimal('482536'))\n",
      "('G6', Decimal('7189609'), Decimal('5674.5138'), Decimal('470021'))\n"
     ]
    }
   ],
   "source": [
    "q20 = \"\"\"\n",
    "select GeoID, sum(Amount), avg(Amount), sum(Boxes)\n",
    "from sales\n",
    "group by GeoID\n",
    "\"\"\"\n",
    "\n",
    "connection = create_db_connection(\"localhost\", \"root\", pw, db)\n",
    "results = read_query(connection, q20)\n",
    "\n",
    "for result in results:\n",
    "  print(result)"
   ]
  },
  {
   "cell_type": "code",
   "execution_count": 24,
   "id": "a90ae34d",
   "metadata": {},
   "outputs": [
    {
     "name": "stdout",
     "output_type": "stream",
     "text": [
      "MySQL Database connection successful\n",
      "('Organic Choco Syrup', Decimal('2016707'))\n",
      "('Spicy Special Slims', Decimal('2004415'))\n",
      "('Mint Chip Choco', Decimal('1871751'))\n",
      "('Milk Bars', Decimal('1989078'))\n",
      "('Choco Coated Almonds', Decimal('1980566'))\n",
      "('Fruit & Nut Bars', Decimal('2013081'))\n",
      "('Eclairs', Decimal('1955975'))\n",
      "(\"Baker's Choco Chips\", Decimal('1906583'))\n",
      "('Drinking Coco', Decimal('1941562'))\n",
      "('99% Dark & Pure', Decimal('2023070'))\n",
      "('Raspberry Choco', Decimal('2090242'))\n",
      "('Almond Choco', Decimal('2055627'))\n",
      "('Manuka Honey Choco', Decimal('1965089'))\n",
      "('After Nines', Decimal('2112502'))\n",
      "('70% Dark Bites', Decimal('1941037'))\n",
      "('Caramel Stuffed Bars', Decimal('2010407'))\n",
      "('Smooth Sliky Salty', Decimal('1934387'))\n",
      "('White Choc', Decimal('1913296'))\n",
      "('85% Dark Bars', Decimal('1953063'))\n",
      "('50% Dark Bites', Decimal('1991836'))\n",
      "('Peanut Butter Cubes', Decimal('1992060'))\n",
      "('Orange Choco', Decimal('1899212'))\n"
     ]
    }
   ],
   "source": [
    "q21 = \"\"\"\n",
    "select P.Product, sum(S.Amount) as \"Total Amount\"\n",
    "from Sales S\n",
    "join Products P ON P.PID = S.PID\n",
    "group by P.Product\n",
    "order by 'Total Amount' desc\n",
    "\"\"\"\n",
    "\n",
    "connection = create_db_connection(\"localhost\", \"root\", pw, db)\n",
    "results = read_query(connection, q21)\n",
    "\n",
    "for result in results:\n",
    "  print(result)"
   ]
  },
  {
   "cell_type": "code",
   "execution_count": 25,
   "id": "5f9a5d12",
   "metadata": {},
   "outputs": [
    {
     "name": "stdout",
     "output_type": "stream",
     "text": [
      "MySQL Database connection successful\n",
      "('Bars', 'Delish', Decimal('456609'), Decimal('6862975'))\n",
      "('Bars', 'Jucies', Decimal('340348'), Decimal('5113521'))\n",
      "('Bars', 'Yummies', Decimal('406265'), Decimal('6201601'))\n",
      "('Bites', 'Delish', Decimal('273424'), Decimal('4525724'))\n",
      "('Bites', 'Jucies', Decimal('201838'), Decimal('3284309'))\n",
      "('Bites', 'Yummies', Decimal('243030'), Decimal('4017342'))\n",
      "('Other', 'Delish', Decimal('194383'), Decimal('2464455'))\n",
      "('Other', 'Jucies', Decimal('145619'), Decimal('1872563'))\n",
      "('Other', 'Yummies', Decimal('184056'), Decimal('2311428'))\n"
     ]
    }
   ],
   "source": [
    "q22 = \"\"\"\n",
    "select PR.category, P.Team, sum(Boxes), sum(Amount)\n",
    "from sales S\n",
    "join people P ON P.SPID = S.SPID\n",
    "join products PR ON PR.PID = S.PID\n",
    "where P.Team <> ''\n",
    "group by PR.category, P.Team\n",
    "order by PR.category, P.Team\n",
    "\"\"\"\n",
    "\n",
    "connection = create_db_connection(\"localhost\", \"root\", pw, db)\n",
    "results = read_query(connection, q22)\n",
    "\n",
    "for result in results:\n",
    "  print(result)"
   ]
  },
  {
   "cell_type": "code",
   "execution_count": 26,
   "id": "ef319102",
   "metadata": {},
   "outputs": [
    {
     "name": "stdout",
     "output_type": "stream",
     "text": [
      "MySQL Database connection successful\n",
      "('Australia', Decimal('7263151'), Decimal('5755.2702'), Decimal('482536'))\n",
      "('Canada', Decimal('7350091'), Decimal('5684.5251'), Decimal('491482'))\n",
      "('India', Decimal('7310254'), Decimal('5797.1879'), Decimal('490374'))\n",
      "('New Zealand', Decimal('7435918'), Decimal('5755.3545'), Decimal('493139'))\n",
      "('UK', Decimal('7189609'), Decimal('5674.5138'), Decimal('470021'))\n",
      "('USA', Decimal('7012523'), Decimal('5646.1538'), Decimal('473759'))\n"
     ]
    }
   ],
   "source": [
    "q23 = \"\"\"\n",
    "select G.Geo, sum(Amount), avg(Amount), sum(Boxes)\n",
    "from sales S\n",
    "join Geo G ON S.GeoID = G.GeoID\n",
    "group by G.Geo\n",
    "\"\"\"\n",
    "\n",
    "connection = create_db_connection(\"localhost\", \"root\", pw, db)\n",
    "results = read_query(connection, q23)\n",
    "\n",
    "for result in results:\n",
    "  print(result)"
   ]
  },
  {
   "cell_type": "code",
   "execution_count": 27,
   "id": "50971c39",
   "metadata": {},
   "outputs": [
    {
     "name": "stdout",
     "output_type": "stream",
     "text": [
      "MySQL Database connection successful\n",
      "('Oby Sorrel', 21, 5, Decimal('0.2381'))\n",
      "('Gunar Cockshoot', 329, 66, Decimal('0.2006'))\n",
      "('Ches Bonnell', 3052, 611, Decimal('0.2002'))\n",
      "('Oby Sorrel', 3997, 800, Decimal('0.2002'))\n",
      "('Kelci Walkden', 1064, 213, Decimal('0.2002'))\n",
      "('Camilla Castle', 6041, 1209, Decimal('0.2001'))\n",
      "('Van Tuxwell', 3808, 762, Decimal('0.2001'))\n",
      "(\"Wilone O'Kielt\", 12586, 2518, Decimal('0.2001'))\n",
      "('Van Tuxwell', 5628, 1126, Decimal('0.2001'))\n",
      "('Brien Boise', 9541, 1909, Decimal('0.2001'))\n",
      "('Rafaelita Blaksland', 1659, 332, Decimal('0.2001'))\n",
      "('Ches Bonnell', 8064, 1613, Decimal('0.2000'))\n",
      "('Beverie Moffet', 4319, 864, Decimal('0.2000'))\n",
      "('Van Tuxwell', 5369, 1074, Decimal('0.2000'))\n",
      "('Kelci Walkden', 15372, 3075, Decimal('0.2000'))\n",
      "('Gigi Bohling', 4774, 955, Decimal('0.2000'))\n",
      "(\"Marney O'Breen\", 8855, 1771, Decimal('0.2000'))\n",
      "('Karlen McCaffrey', 6580, 1316, Decimal('0.2000'))\n",
      "('Oby Sorrel', 8099, 1620, Decimal('0.2000'))\n",
      "(\"Marney O'Breen\", 735, 147, Decimal('0.2000'))\n"
     ]
    }
   ],
   "source": [
    "q24 = \"\"\"\n",
    "select P.SalesPerson, S.Amount, S.Boxes, S.Boxes / Amount as 'Amount Per Box'\n",
    "from sales S \n",
    "Join People P ON S.SPID = P.SPID\n",
    "order by 4 desc\n",
    "limit 20\n",
    "\"\"\"\n",
    "\n",
    "connection = create_db_connection(\"localhost\", \"root\", pw, db)\n",
    "results = read_query(connection, q24)\n",
    "\n",
    "for result in results:\n",
    "  print(result)"
   ]
  },
  {
   "cell_type": "code",
   "execution_count": 28,
   "id": "ee6df20b",
   "metadata": {},
   "outputs": [
    {
     "name": "stdout",
     "output_type": "stream",
     "text": [
      "MySQL Database connection successful\n",
      "('SP03', 'Gunar Cockshoot', 315)\n",
      "('SP23', 'Van Tuxwell', 314)\n",
      "('SP09', 'Andria Kimpton', 312)\n",
      "('SP18', 'Madelene Upcott', 312)\n",
      "('SP15', 'Kelci Walkden', 310)\n",
      "('SP24', 'Roddy Speechley', 310)\n",
      "('SP04', \"Wilone O'Kielt\", 308)\n",
      "('SP12', 'Karlen McCaffrey', 308)\n",
      "('SP02', 'Dennison Crosswaite', 307)\n",
      "('SP10', 'Brien Boise', 307)\n",
      "('SP25', 'Camilla Castle', 306)\n",
      "('SP19', 'Beverie Moffet', 305)\n",
      "('SP01', 'Barr Faughny', 304)\n",
      "('SP05', 'Gigi Bohling', 304)\n",
      "('SP14', 'Dotty Strutley', 304)\n",
      "('SP13', 'Jan Morforth', 303)\n",
      "('SP17', 'Rafaelita Blaksland', 302)\n",
      "('SP16', \"Marney O'Breen\", 301)\n",
      "('SP22', 'Jehu Rudeforth', 301)\n",
      "('SP08', 'Ches Bonnell', 300)\n",
      "('SP20', 'Oby Sorrel', 300)\n",
      "('SP21', 'Mallorie Waber', 300)\n",
      "('SP06', 'Curtice Advani', 298)\n",
      "('SP11', 'Husein Augar', 298)\n",
      "('SP07', 'Kaine Padly', 288)\n"
     ]
    }
   ],
   "source": [
    "q25 = \"\"\"\n",
    "select P.SPID, P.Salesperson, count(S.Boxes)\n",
    "from people P\n",
    "join Sales S ON P.SPID = S.SPID\n",
    "group by SPID asc\n",
    "order by 3 desc\n",
    "\"\"\"\n",
    "\n",
    "connection = create_db_connection(\"localhost\", \"root\", pw, db)\n",
    "results = read_query(connection, q25)\n",
    "\n",
    "for result in results:\n",
    "  print(result)"
   ]
  },
  {
   "cell_type": "code",
   "execution_count": 29,
   "id": "bd284233",
   "metadata": {},
   "outputs": [
    {
     "name": "stdout",
     "output_type": "stream",
     "text": [
      "MySQL Database connection successful\n",
      "(datetime.date(2010, 3, 21), 23268, 'Rafaelita Blaksland', '99% Dark & Pure', '', 'New Zealand')\n",
      "(datetime.date(2013, 10, 21), 20825, 'Jehu Rudeforth', 'Orange Choco', '', 'India')\n",
      "(datetime.date(2021, 1, 22), 20720, 'Ches Bonnell', 'Raspberry Choco', '', 'New Zealand')\n",
      "(datetime.date(2022, 3, 22), 20041, 'Jehu Rudeforth', 'White Choc', '', 'India')\n",
      "(datetime.date(2030, 8, 21), 19376, 'Jehu Rudeforth', 'After Nines', '', 'India')\n",
      "(datetime.date(2013, 12, 21), 18830, 'Mallorie Waber', 'Fruit & Nut Bars', '', 'New Zealand')\n",
      "(datetime.date(2008, 2, 21), 18571, 'Jehu Rudeforth', 'After Nines', '', 'New Zealand')\n",
      "(datetime.date(2007, 1, 22), 18130, 'Mallorie Waber', 'Milk Bars', '', 'India')\n",
      "(datetime.date(2019, 7, 21), 17591, 'Jehu Rudeforth', 'Smooth Sliky Salty', '', 'India')\n",
      "(datetime.date(2013, 9, 21), 16681, 'Ches Bonnell', 'Milk Bars', '', 'India')\n",
      "(datetime.date(2011, 3, 22), 16576, 'Rafaelita Blaksland', 'Mint Chip Choco', '', 'India')\n",
      "(datetime.date(2023, 9, 21), 16513, 'Rafaelita Blaksland', 'Drinking Coco', '', 'India')\n",
      "(datetime.date(2010, 1, 22), 16121, 'Ches Bonnell', 'Milk Bars', '', 'India')\n",
      "(datetime.date(2021, 1, 22), 16072, 'Ches Bonnell', 'Peanut Butter Cubes', '', 'India')\n",
      "(datetime.date(2012, 5, 21), 15603, 'Rafaelita Blaksland', 'Almond Choco', '', 'New Zealand')\n",
      "(datetime.date(2019, 1, 21), 15407, 'Ches Bonnell', 'Mint Chip Choco', '', 'India')\n",
      "(datetime.date(2019, 11, 21), 15407, 'Rafaelita Blaksland', 'Choco Coated Almonds', '', 'New Zealand')\n",
      "(datetime.date(2017, 2, 21), 15323, 'Rafaelita Blaksland', 'White Choc', '', 'India')\n",
      "(datetime.date(2012, 2, 21), 15127, 'Jehu Rudeforth', 'Peanut Butter Cubes', '', 'India')\n",
      "(datetime.date(2014, 2, 22), 15092, 'Ches Bonnell', 'White Choc', '', 'New Zealand')\n"
     ]
    }
   ],
   "source": [
    "q26 = \"\"\"\n",
    "select S.SaleDate, S.Amount, P.SalesPerson, Pr.Product, P.Team, G.Geo\n",
    "from Sales S\n",
    "join People P ON P.SPID = S.SPID\n",
    "join Products Pr ON Pr.PID = S.PID\n",
    "join Geo G ON G.GeoID = S.GeoID\n",
    "where S.Amount >500\n",
    "and P.Team = ''\n",
    "and G.Geo in ('New Zealand', 'India')\n",
    "order by Amount desc\n",
    "limit 20\n",
    "\"\"\"\n",
    "\n",
    "connection = create_db_connection(\"localhost\", \"root\", pw, db)\n",
    "results = read_query(connection, q26)\n",
    "\n",
    "for result in results:\n",
    "  print(result)"
   ]
  },
  {
   "cell_type": "code",
   "execution_count": 30,
   "id": "b725d8f8",
   "metadata": {},
   "outputs": [
    {
     "name": "stdout",
     "output_type": "stream",
     "text": [
      "MySQL Database connection successful\n",
      "('SP23', 'Van Tuxwell', 27146)\n",
      "('SP18', 'Madelene Upcott', 25207)\n",
      "('SP03', 'Gunar Cockshoot', 24633)\n",
      "('SP24', 'Roddy Speechley', 23912)\n",
      "('SP17', 'Rafaelita Blaksland', 23268)\n",
      "('SP09', 'Andria Kimpton', 23184)\n",
      "('SP14', 'Dotty Strutley', 22897)\n",
      "('SP25', 'Camilla Castle', 22652)\n",
      "('SP16', \"Marney O'Breen\", 22603)\n",
      "('SP13', 'Jan Morforth', 22512)\n",
      "('SP21', 'Mallorie Waber', 21588)\n",
      "('SP06', 'Curtice Advani', 21525)\n",
      "('SP02', 'Dennison Crosswaite', 21406)\n",
      "('SP15', 'Kelci Walkden', 21140)\n",
      "('SP12', 'Karlen McCaffrey', 20993)\n",
      "('SP22', 'Jehu Rudeforth', 20832)\n",
      "('SP19', 'Beverie Moffet', 20818)\n",
      "('SP08', 'Ches Bonnell', 20720)\n",
      "('SP01', 'Barr Faughny', 20671)\n",
      "('SP04', \"Wilone O'Kielt\", 20146)\n",
      "('SP10', 'Brien Boise', 20132)\n",
      "('SP05', 'Gigi Bohling', 19817)\n",
      "('SP11', 'Husein Augar', 19579)\n",
      "('SP07', 'Kaine Padly', 19523)\n",
      "('SP20', 'Oby Sorrel', 16947)\n"
     ]
    }
   ],
   "source": [
    "q27 = \"\"\"\n",
    "select P.SPID, P.Salesperson, Max(Amount)\n",
    "from people P\n",
    "join Sales S ON P.SPID = S.SPID\n",
    "group by SPID asc\n",
    "order by 3 desc\n",
    "\"\"\"\n",
    "\n",
    "connection = create_db_connection(\"localhost\", \"root\", pw, db)\n",
    "results = read_query(connection, q27)\n",
    "\n",
    "for result in results:\n",
    "  print(result)"
   ]
  },
  {
   "cell_type": "code",
   "execution_count": 40,
   "id": "abc06011",
   "metadata": {},
   "outputs": [
    {
     "name": "stdout",
     "output_type": "stream",
     "text": [
      "MySQL Database connection successful\n",
      "(27146,)\n"
     ]
    }
   ],
   "source": [
    "q28 = \"\"\"\n",
    "SELECT MAX(Amount)\n",
    "FROM `sales`\n",
    "\"\"\"\n",
    "\n",
    "connection = create_db_connection(\"localhost\", \"root\", pw, db)\n",
    "results = read_query(connection, q28)\n",
    "\n",
    "for result in results:\n",
    "  print(result)"
   ]
  },
  {
   "cell_type": "code",
   "execution_count": 41,
   "id": "be7aee07",
   "metadata": {},
   "outputs": [
    {
     "name": "stdout",
     "output_type": "stream",
     "text": [
      "MySQL Database connection successful\n",
      "(0,)\n"
     ]
    }
   ],
   "source": [
    "q29 = \"\"\"\n",
    "SELECT MIN(Amount)\n",
    "FROM `sales`\n",
    "\"\"\"\n",
    "\n",
    "connection = create_db_connection(\"localhost\", \"root\", pw, db)\n",
    "results = read_query(connection, q29)\n",
    "\n",
    "for result in results:\n",
    "  print(result)"
   ]
  },
  {
   "cell_type": "code",
   "execution_count": 44,
   "id": "e65f0d81",
   "metadata": {},
   "outputs": [
    {
     "name": "stdout",
     "output_type": "stream",
     "text": [
      "MySQL Database connection successful\n",
      "(27146, 27146)\n",
      "(25207, 25207)\n",
      "(24633, 24633)\n",
      "(24451, 24451)\n",
      "(24367, 24367)\n",
      "(23912, 23912)\n",
      "(23268, 23268)\n",
      "(23184, 23184)\n",
      "(22897, 22897)\n",
      "(22715, 22715)\n",
      "(22652, 22652)\n",
      "(22603, 22603)\n",
      "(22512, 22512)\n",
      "(22484, 22484)\n",
      "(22155, 22155)\n",
      "(21861, 21861)\n",
      "(21595, 21595)\n",
      "(21588, 21588)\n",
      "(21525, 21525)\n",
      "(21490, 21490)\n"
     ]
    }
   ],
   "source": [
    "q30 = \"\"\"\n",
    "SELECT Amount, MAX(Amount)\n",
    "FROM `sales` \n",
    "group by 1\n",
    "order by amount desc\n",
    "limit 20\n",
    "\"\"\"\n",
    "\n",
    "connection = create_db_connection(\"localhost\", \"root\", pw, db)\n",
    "results = read_query(connection, q30)\n",
    "\n",
    "for result in results:\n",
    "  print(result)"
   ]
  },
  {
   "cell_type": "markdown",
   "id": "ad35ac72",
   "metadata": {},
   "source": [
    "<small id=\"operator\"> operator <small/>"
   ]
  },
  {
   "cell_type": "code",
   "execution_count": 46,
   "id": "ca8b23d8",
   "metadata": {},
   "outputs": [
    {
     "name": "stdout",
     "output_type": "stream",
     "text": [
      "MySQL Database connection successful\n",
      "('G1', 644, 34)\n",
      "('G1', 238, 11)\n",
      "('G1', 1029, 47)\n",
      "('G1', 126, 13)\n",
      "('G1', 644, 30)\n",
      "('G1', 749, 35)\n",
      "('G1', 686, 46)\n",
      "('G1', 630, 28)\n",
      "('G1', 63, 7)\n",
      "('G1', 182, 7)\n",
      "('G1', 294, 17)\n",
      "('G1', 49, 3)\n",
      "('G1', 623, 22)\n",
      "('G1', 203, 19)\n",
      "('G1', 574, 34)\n",
      "('G1', 434, 37)\n",
      "('G1', 1085, 46)\n",
      "('G1', 21, 1)\n",
      "('G1', 350, 25)\n",
      "('G1', 749, 28)\n"
     ]
    }
   ],
   "source": [
    "q31 = \"\"\"\n",
    "select GeoID, Amount, Boxes \n",
    "from sales\n",
    "where boxes >0 and boxes <=50 order by GeoID asc limit 20\n",
    "\"\"\"\n",
    "\n",
    "connection = create_db_connection(\"localhost\", \"root\", pw, db)\n",
    "results = read_query(connection, q31)\n",
    "\n",
    "for result in results:\n",
    "  print(result)"
   ]
  },
  {
   "cell_type": "code",
   "execution_count": 47,
   "id": "e8418358",
   "metadata": {},
   "outputs": [
    {
     "name": "stdout",
     "output_type": "stream",
     "text": [
      "MySQL Database connection successful\n",
      "(datetime.date(2022, 4, 21), 25207)\n",
      "(datetime.date(2022, 3, 22), 20041)\n",
      "(datetime.date(2022, 3, 21), 19621)\n",
      "(datetime.date(2022, 3, 22), 17710)\n",
      "(datetime.date(2022, 2, 22), 17661)\n",
      "(datetime.date(2022, 11, 21), 17542)\n",
      "(datetime.date(2022, 7, 21), 16968)\n",
      "(datetime.date(2022, 11, 21), 16926)\n",
      "(datetime.date(2022, 10, 21), 16870)\n",
      "(datetime.date(2022, 2, 22), 16023)\n",
      "(datetime.date(2022, 7, 21), 15848)\n",
      "(datetime.date(2022, 12, 21), 15673)\n",
      "(datetime.date(2022, 2, 21), 15351)\n",
      "(datetime.date(2022, 4, 21), 15295)\n",
      "(datetime.date(2022, 2, 21), 15253)\n",
      "(datetime.date(2022, 1, 21), 15197)\n",
      "(datetime.date(2022, 12, 21), 14959)\n",
      "(datetime.date(2022, 2, 21), 14721)\n",
      "(datetime.date(2022, 3, 21), 14385)\n",
      "(datetime.date(2022, 10, 21), 14378)\n"
     ]
    }
   ],
   "source": [
    "q32 = \"\"\"\n",
    "select SaleDate, Amount from sales\n",
    "where amount > 10000 and year(SaleDate) = 2022\n",
    "order by Amount desc limit 20;\n",
    "\"\"\"\n",
    "\n",
    "connection = create_db_connection(\"localhost\", \"root\", pw, db)\n",
    "results = read_query(connection, q32)\n",
    "\n",
    "for result in results:\n",
    "  print(result)"
   ]
  },
  {
   "cell_type": "code",
   "execution_count": 48,
   "id": "4fa837a0",
   "metadata": {},
   "outputs": [
    {
     "name": "stdout",
     "output_type": "stream",
     "text": [
      "MySQL Database connection successful\n",
      "('P09', 1000)\n",
      "('P18', 1002)\n",
      "('P16', 1003)\n",
      "('P22', 1005)\n",
      "('P09', 1006)\n",
      "('P13', 1006)\n",
      "('P17', 1007)\n",
      "('P14', 1008)\n",
      "('P01', 1008)\n",
      "('P10', 1008)\n",
      "('P05', 1010)\n",
      "('P10', 1011)\n",
      "('P21', 1012)\n",
      "('P21', 1013)\n",
      "('P17', 1013)\n",
      "('P14', 1015)\n",
      "('P09', 1015)\n",
      "('P22', 1017)\n",
      "('P22', 1017)\n",
      "('P12', 1019)\n"
     ]
    }
   ],
   "source": [
    "q33 = \"\"\"\n",
    "select PID, boxes\n",
    "from sales\n",
    "where boxes\n",
    "between 1000 and 2000 order by boxes asc limit 20\n",
    "\"\"\"\n",
    "\n",
    "connection = create_db_connection(\"localhost\", \"root\", pw, db)\n",
    "results = read_query(connection, q33)\n",
    "\n",
    "for result in results:\n",
    "  print(result)"
   ]
  },
  {
   "cell_type": "markdown",
   "id": "173284ee",
   "metadata": {},
   "source": [
    "<small id=\"like\"> like <small/>"
   ]
  },
  {
   "cell_type": "code",
   "execution_count": 50,
   "id": "ea263ca3",
   "metadata": {},
   "outputs": [
    {
     "name": "stdout",
     "output_type": "stream",
     "text": [
      "MySQL Database connection successful\n",
      "('Barr Faughny', 'SP01', 'Yummies', 'Hyderabad')\n",
      "('Brien Boise', 'SP10', 'Jucies', 'Wellington')\n",
      "('Beverie Moffet', 'SP19', 'Jucies', 'Seattle')\n",
      "('Benny Karolovsky', 'SP32', 'Jucies', 'Paris')\n"
     ]
    }
   ],
   "source": [
    "q34 = \"\"\"\n",
    "select * from people\n",
    "where salesperson like 'B%';\n",
    "\"\"\"\n",
    "\n",
    "connection = create_db_connection(\"localhost\", \"root\", pw, db)\n",
    "results = read_query(connection, q34)\n",
    "\n",
    "for result in results:\n",
    "  print(result)"
   ]
  },
  {
   "cell_type": "code",
   "execution_count": 52,
   "id": "856c08b9",
   "metadata": {},
   "outputs": [
    {
     "name": "stdout",
     "output_type": "stream",
     "text": [
      "MySQL Database connection successful\n",
      "('Barr Faughny', 'SP01', 'Yummies', 'Hyderabad')\n",
      "('Gigi Bohling', 'SP05', 'Delish', 'Hyderabad')\n",
      "('Ches Bonnell', 'SP08', '', 'Hyderabad')\n",
      "('Brien Boise', 'SP10', 'Jucies', 'Wellington')\n",
      "(\"Marney O'Breen\", 'SP16', 'Jucies', 'Wellington')\n",
      "('Rafaelita Blaksland', 'SP17', '', 'Wellington')\n",
      "('Beverie Moffet', 'SP19', 'Jucies', 'Seattle')\n",
      "('Oby Sorrel', 'SP20', 'Jucies', 'Seattle')\n",
      "('Mallorie Waber', 'SP21', '', 'Seattle')\n",
      "('Ebonee Roxburgh', 'SP28', '', 'Paris')\n",
      "('Benny Karolovsky', 'SP32', 'Jucies', 'Paris')\n"
     ]
    }
   ],
   "source": [
    "q35 = \"\"\"\n",
    "select * from people\n",
    "where salesperson like '%B%';\n",
    "\"\"\"\n",
    "\n",
    "connection = create_db_connection(\"localhost\", \"root\", pw, db)\n",
    "results = read_query(connection, q35)\n",
    "\n",
    "for result in results:\n",
    "  print(result)"
   ]
  },
  {
   "cell_type": "markdown",
   "id": "30ab2758",
   "metadata": {},
   "source": [
    "<small id=\"case when\"> case when <small/>"
   ]
  },
  {
   "cell_type": "code",
   "execution_count": 54,
   "id": "684cb57e",
   "metadata": {},
   "outputs": [
    {
     "name": "stdout",
     "output_type": "stream",
     "text": [
      "MySQL Database connection successful\n",
      "(datetime.date(2001, 1, 21), 8414, 'Under 10k')\n",
      "(datetime.date(2001, 1, 21), 532, 'Under 1k')\n",
      "(datetime.date(2001, 1, 21), 5376, 'Under 10k')\n",
      "(datetime.date(2001, 1, 21), 259, 'Under 1k')\n",
      "(datetime.date(2001, 1, 21), 5530, 'Under 10k')\n",
      "(datetime.date(2001, 1, 21), 2184, 'Under 5k')\n",
      "(datetime.date(2001, 1, 21), 1057, 'Under 5k')\n",
      "(datetime.date(2001, 1, 21), 1036, 'Under 5k')\n",
      "(datetime.date(2001, 1, 21), 4039, 'Under 5k')\n",
      "(datetime.date(2001, 1, 21), 12894, '10k or more')\n",
      "(datetime.date(2001, 1, 21), 4669, 'Under 5k')\n",
      "(datetime.date(2001, 1, 21), 6377, 'Under 10k')\n",
      "(datetime.date(2001, 1, 21), 4599, 'Under 5k')\n",
      "(datetime.date(2001, 1, 21), 2751, 'Under 5k')\n",
      "(datetime.date(2001, 1, 21), 15596, '10k or more')\n",
      "(datetime.date(2001, 1, 21), 8561, 'Under 10k')\n",
      "(datetime.date(2001, 1, 21), 14273, '10k or more')\n",
      "(datetime.date(2001, 1, 21), 2506, 'Under 5k')\n",
      "(datetime.date(2001, 1, 21), 2387, 'Under 5k')\n",
      "(datetime.date(2001, 1, 21), 7553, 'Under 10k')\n"
     ]
    }
   ],
   "source": [
    "q36 = \"\"\"\n",
    "select \tSaleDate, Amount,\n",
    "\t\tcase \twhen amount < 1000 then 'Under 1k'\n",
    "\t\t\t\twhen amount < 5000 then 'Under 5k'\n",
    "                when amount < 10000 then 'Under 10k'\n",
    "\t\t\telse '10k or more'\n",
    "\t\tend as 'Amount category'\n",
    "from sales\n",
    "limit 20\n",
    "\"\"\"\n",
    "\n",
    "connection = create_db_connection(\"localhost\", \"root\", pw, db)\n",
    "results = read_query(connection, q36)\n",
    "\n",
    "for result in results:\n",
    "  print(result)"
   ]
  },
  {
   "cell_type": "code",
   "execution_count": null,
   "id": "5ea6ceb0",
   "metadata": {},
   "outputs": [],
   "source": []
  }
 ],
 "metadata": {
  "kernelspec": {
   "display_name": "Python 3 (ipykernel)",
   "language": "python",
   "name": "python3"
  },
  "language_info": {
   "codemirror_mode": {
    "name": "ipython",
    "version": 3
   },
   "file_extension": ".py",
   "mimetype": "text/x-python",
   "name": "python",
   "nbconvert_exporter": "python",
   "pygments_lexer": "ipython3",
   "version": "3.8.5"
  }
 },
 "nbformat": 4,
 "nbformat_minor": 5
}
